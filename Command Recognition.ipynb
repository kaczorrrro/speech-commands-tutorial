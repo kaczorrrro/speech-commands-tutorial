{
 "cells": [
  {
   "cell_type": "code",
   "execution_count": 1,
   "metadata": {},
   "outputs": [
    {
     "name": "stdout",
     "output_type": "stream",
     "text": [
      "Using matplotlib backend: Qt5Agg\n"
     ]
    }
   ],
   "source": [
    "import numpy as np\n",
    "import tensorflow as tf\n",
    "import random\n",
    "from tensorflow.python.platform import gfile\n",
    "from tensorflow.contrib.framework.python.ops import audio_ops as contrib_audio\n",
    "from tensorflow.python.ops import io_ops\n",
    "from matplotlib import pyplot as plt\n",
    "from itertools import count\n",
    "import ipdb\n",
    "import os\n",
    "%matplotlib "
   ]
  },
  {
   "cell_type": "code",
   "execution_count": 2,
   "metadata": {},
   "outputs": [],
   "source": [
    "#Use this if summaries live longer than they should\n",
    "#tf.reset_default_graph()\n",
    "isess = tf.InteractiveSession()"
   ]
  },
  {
   "cell_type": "code",
   "execution_count": 47,
   "metadata": {},
   "outputs": [],
   "source": [
    "FLAGS = {}\n",
    "#FLAGS['dataset_dir'] = r\"/mnt/6A0850980850655B/Datasets/commnads/audio\"\n",
    "#FLAGS['dataset_dir'] = r\"/tmp/speech_dataset\"\n",
    "FLAGS['dataset_dir'] = r\"dev_audio\"\n",
    "FLAGS['wanted_words'] = ['nine', 'seven']\n",
    "FLAGS['background_dir'] = \"_background_noise_\"\n",
    "FLAGS['clip_time_ms'] = 1000\n",
    "FLAGS['window_time_ms'] = 30\n",
    "FLAGS['window_stride_ms'] = 10\n",
    "FLAGS['batch_size'] = 2\n",
    "FLAGS['sampling_rate'] = 16000\n",
    "FLAGS['mel_num_bins'] = 40\n",
    "FLAGS['mel_f_min'] = 40\n",
    "FLAGS['mel_f_max'] = FLAGS['sampling_rate']/2\n",
    "FLAGS['lr'] = 1e-4\n",
    "FLAGS['valid_percent'] = 30\n",
    "FLAGS['train_log'] = 'train_log'\n",
    "FLAGS['valid_log'] = 'valid_log'\n",
    "FLAGS['checkpoint_dir'] = 'checkpoints/conv.ckpt'\n",
    "FLAGS['background_volume'] = 0.1"
   ]
  },
  {
   "cell_type": "code",
   "execution_count": 48,
   "metadata": {},
   "outputs": [],
   "source": [
    "def play_audio(fs, data):\n",
    "    from io import BytesIO\n",
    "    from scipy.io import wavfile\n",
    "    import pyaudio \n",
    "    import wave  \n",
    "    \n",
    "    if data.dtype == np.float32:\n",
    "        if np.max(np.abs(data)) > 1.0:\n",
    "            raise RuntimeError(\"Float shoud be in range[-1,1]\")\n",
    "        data = (data*(1<<15)).astype(np.int16)\n",
    "    elif data.dtype == np.int16:\n",
    "        pass\n",
    "    else:\n",
    "        raise RuntimeError(\"Data type unsupported\")\n",
    "        \n",
    "    with BytesIO() as buffer:\n",
    "        p = pyaudio.PyAudio()\n",
    "        wavfile.write(buffer, fs, data)\n",
    "        f = wave.open(buffer,\"rb\")  \n",
    "        #define stream chunk   \n",
    "        chunk = 1024  \n",
    "        \n",
    "        stream = p.open(format = p.get_format_from_width(f.getsampwidth()),  \n",
    "                        channels = f.getnchannels(),  \n",
    "                        rate = f.getframerate(),  \n",
    "                        output = True)  \n",
    "        \n",
    "        #read data  \n",
    "        audio_data = f.readframes(chunk)\n",
    "\n",
    "        #play stream  \n",
    "        while audio_data:  \n",
    "            stream.write(audio_data)  \n",
    "            audio_data = f.readframes(chunk)  \n",
    "\n",
    "        #stop stream  \n",
    "        stream.stop_stream()  \n",
    "        stream.close()  \n",
    "        p.terminate()"
   ]
  },
  {
   "cell_type": "code",
   "execution_count": 49,
   "metadata": {},
   "outputs": [],
   "source": [
    "def get_model_settings(clip_time_ms, sampling_rate, window_time_ms, window_stride_time_ms, mel_f_min, mel_f_max, mel_num_bins, \n",
    "                       background_volume):\n",
    "    clip_samples = int(clip_time_ms * sampling_rate / 1000)\n",
    "    window_samples = int(window_time_ms * sampling_rate / 1000)\n",
    "    window_stride_samples = int(window_stride_time_ms * sampling_rate / 1000)\n",
    "    length_in_samples = 1 + int((clip_samples - window_samples) / window_stride_samples)\n",
    "    fft_size = int(2**np.ceil(np.log2(window_samples)))\n",
    "    settings = {\n",
    "        'clip_samples':          clip_samples,\n",
    "        'window_samples':        window_samples,\n",
    "        'window_stride_samples':window_stride_samples,\n",
    "        'fingerprint_size':      length_in_samples*mel_num_bins,\n",
    "        'sampling_rate':         sampling_rate,\n",
    "        'mel_f_min':             mel_f_min,\n",
    "        'mel_f_max':             mel_f_max,\n",
    "        'mel_num_bins':          mel_num_bins,\n",
    "        'lenght_in_samples':     length_in_samples,\n",
    "        'fft_size':              fft_size,\n",
    "        'background_volume':     background_volume\n",
    "    }\n",
    "    return settings\n",
    "\n",
    "def get_training_settings(batch_size, valid_percent):\n",
    "    settings = {\n",
    "        'batch_size':batch_size,\n",
    "        'valid_percent':valid_percent\n",
    "    }\n",
    "    return settings\n",
    "    "
   ]
  },
  {
   "cell_type": "code",
   "execution_count": 50,
   "metadata": {
    "scrolled": true
   },
   "outputs": [
    {
     "name": "stdout",
     "output_type": "stream",
     "text": [
      "Preparing mel matrix\n",
      "Preparing mel matrix finished\n",
      "Indexing audio files\n",
      "Indexing audio files finished\n",
      "Loading backgrounds\n",
      "Loading backgrounds finished\n"
     ]
    }
   ],
   "source": [
    "class AudioProcessor:\n",
    "    def __init__(self, dataset_dir, background_dir, wanted_words, model_settings, training_settings):\n",
    "        self._model_settings = model_settings\n",
    "        self._mel_matrix = tf.constant(self.prepare_to_mel_matrix())\n",
    "        \n",
    "        self.id_to_label =  wanted_words\n",
    "        self.label_to_id = {label:i for i, label in enumerate(wanted_words)}\n",
    "        self.train_set, self.valid_set, background_paths = self.load_audio(wanted_words, dataset_dir, background_dir, training_settings)\n",
    "        self._next_background = self.process_backgrounds(background_paths)\n",
    "        self.x_src, self.y_src, self.iter = self.prepare_processing_graph(len(wanted_words), training_settings)\n",
    "        self._signals, self._labels = self.iter.get_next()\n",
    "        \n",
    "    def prepare_to_mel_matrix(self):\n",
    "        print(\"Preparing mel matrix\")\n",
    "        mel_num_bins = self._model_settings['mel_num_bins']\n",
    "        mel_f_min = self._model_settings['mel_f_min']\n",
    "        mel_f_max = self._model_settings['mel_f_max']\n",
    "        num_spectrogram_bins = self._model_settings['fft_size']//2+1\n",
    "        fs = self._model_settings['sampling_rate']\n",
    "\n",
    "        linear_to_mel_weight_matrix = tf.contrib.signal.linear_to_mel_weight_matrix(\n",
    "          mel_num_bins, num_spectrogram_bins, fs, mel_f_min, mel_f_max)\n",
    "        with tf.Session() as sess:\n",
    "            out = linear_to_mel_weight_matrix.eval(session=sess)\n",
    "        print(\"Preparing mel matrix finished\")\n",
    "        return out\n",
    "    \n",
    "    def load_audio(self, wanted_words, dataset_dir, background_dir, training_settings):\n",
    "        \"\"\"\n",
    "            Finds all wave files in dataset directory and arranges them into word -> list of files\n",
    "        \"\"\"\n",
    "        print(\"Indexing audio files\")\n",
    "        wanted_words = set(wanted_words)\n",
    "        all_paths = []\n",
    "        all_labels = []\n",
    "        background_paths = []\n",
    "        search_path = os.path.join(dataset_dir, '*', '*.wav')\n",
    "        for wav_path in gfile.Glob(search_path):\n",
    "            _, word = os.path.split(os.path.dirname(wav_path))\n",
    "            if word == background_dir:\n",
    "                background_paths.append(wav_path)\n",
    "                continue\n",
    "            if word in wanted_words:\n",
    "                all_paths.append(wav_path)\n",
    "                all_labels.append(self.label_to_id[word])\n",
    "                \n",
    "#         all_paths = ['/media/sebastian/Itanos/Kursy/Audio signal processing coursera/sounds/piano.wav',\n",
    "#                      '/media/sebastian/Itanos/Kursy/Audio signal processing coursera/sounds/sine-440.wav']\n",
    "#         all_paths = ['I:/Kursy/Audio signal processing coursera/sounds/piano.wav',\n",
    "#                      'I:/Kursy/Audio signal processing coursera/sounds/sine-440.wav']\n",
    "#         all_labels = [0, 1]\n",
    "\n",
    "        #shuffle both list in the same way\n",
    "        combined = list(zip(all_paths,all_labels))\n",
    "        random.shuffle(combined)\n",
    "        valid_size = int(len(combined)*training_settings['valid_percent']/100)\n",
    "        valid_combined = list(zip(*combined[0:valid_size]))\n",
    "        train_combined = list(zip(*combined[valid_size:] ))\n",
    "        \n",
    "        print(\"Indexing audio files finished\")\n",
    "        return train_combined, valid_combined, background_paths\n",
    "    \n",
    "    def load_wav(self, path, desired_samples=-1):\n",
    "        wav_loader = io_ops.read_file(path)\n",
    "        audio, fs = contrib_audio.decode_wav(wav_loader, desired_channels=1, desired_samples=desired_samples)\n",
    "        tf.Assert(tf.equal(fs, self._model_settings['sampling_rate']), [fs])\n",
    "        audio = tf.squeeze(audio)\n",
    "        return audio\n",
    "    \n",
    "    def process_backgrounds(self, background_paths):\n",
    "        #TODO normalize background loudness\n",
    "        print(\"Loading backgrounds\")\n",
    "        path_input = tf.placeholder(tf.string)\n",
    "        wav_out = self.load_wav(path_input)\n",
    "        with tf.Session() as sess:\n",
    "            wavs = [ sess.run(wav_out, feed_dict={path_input:path}) for path in background_paths ]\n",
    "        \n",
    "        #to limit RAM usage, instead of using dataset.from_tensor_slices (which creates huge copies of\n",
    "        #of wav_out, taking more than x4 memory than they should) we create generator that returns data\n",
    "        #wav_out, that is referenced in this generator, is never freed since tf doesn't delete datasets\n",
    "        #this causes about 35 MB leak per AudioProcessor creation\n",
    "        def gen():\n",
    "            num_examples = len(wavs)\n",
    "            clip_samples = self._model_settings['clip_samples']\n",
    "            while True:\n",
    "                example_no = random.randint(0, num_examples-1)\n",
    "                wav_data = wavs[example_no]\n",
    "                random_offset = random.randint(0, wav_data.size-1-clip_samples)\n",
    "                yield wav_data[random_offset:random_offset+clip_samples]\n",
    "                \n",
    "        next_background = tf.data.Dataset.from_generator(gen, tf.float32, output_shapes=(self._model_settings['clip_samples'],))\\\n",
    "                          .make_one_shot_iterator().get_next()\n",
    "        print(\"Loading backgrounds finished\")\n",
    "        return next_background\n",
    "        \n",
    "    def prepare_processing_graph(self, num_labels, training_settings):\n",
    "        clip_samples = self._model_settings['clip_samples']\n",
    "        \n",
    "        x_src = tf.placeholder(tf.string, (None,))\n",
    "        y_src = tf.placeholder(tf.int32,  (None,))\n",
    "        x_data = tf.data.Dataset.from_tensor_slices(x_src).map(lambda path: self.load_wav(path, clip_samples))\n",
    "        y_data = tf.data.Dataset.from_tensor_slices(y_src)\n",
    "        dataset = tf.data.Dataset.zip((x_data, y_data)).batch(training_settings['batch_size'])\n",
    "            \n",
    "        return x_src, y_src, dataset.make_initializable_iterator()\n",
    "\n",
    "    def get_data(self, debug_stuff = False):\n",
    "        \"\"\"\n",
    "            Applies random transforms, and returns audio as spectrograms\n",
    "        \"\"\"\n",
    "        frame_len = self._model_settings['window_samples']\n",
    "        frame_step = self._model_settings['window_stride_samples']\n",
    "        fft_size = self._model_settings['fft_size']\n",
    "        background_volume = self._model_settings['background_volume']/(1+self._model_settings['background_volume'])\n",
    "        foreground_volume = 1/(1+self._model_settings['background_volume'])\n",
    "        \n",
    "        signals, labels = self._signals, self._labels\n",
    "        background = self._next_background[0:signals.shape[1]]\n",
    "        \n",
    "        signals_mixed = foreground_volume * signals + background_volume * background\n",
    "\n",
    "        spect = tf.contrib.signal.stft(signals_mixed, frame_len, frame_step, fft_size)\n",
    "        spect_mag = tf.abs(spect)\n",
    "        mel_spect = tf.tensordot(spect_mag, self._mel_matrix, 1)\n",
    "        \n",
    "        if debug_stuff:\n",
    "            return signals, background, signals_mixed, spect, mel_spect, labels\n",
    "        else:\n",
    "            return mel_spect, labels\n",
    "\n",
    "#ipdb.set_trace()\n",
    "model_settings = get_model_settings(FLAGS['clip_time_ms'], FLAGS['sampling_rate'], FLAGS['window_time_ms'],\n",
    "                                    FLAGS['window_stride_ms'], FLAGS['mel_f_min'], FLAGS['mel_f_max'], FLAGS['mel_num_bins'],\n",
    "                                    FLAGS['background_volume'])\n",
    "training_settings = get_training_settings(FLAGS['batch_size'], FLAGS['valid_percent'])\n",
    "ap = AudioProcessor(FLAGS['dataset_dir'], FLAGS['background_dir'], FLAGS['wanted_words'], model_settings, training_settings)"
   ]
  },
  {
   "cell_type": "code",
   "execution_count": 51,
   "metadata": {},
   "outputs": [],
   "source": [
    "#play_audio(FLAGS['sampling_rate'], ap._next_background.eval())"
   ]
  },
  {
   "cell_type": "code",
   "execution_count": 52,
   "metadata": {},
   "outputs": [],
   "source": [
    "def reconstruct_audio_from_mel(mel_spect, model_settings, true_spect = None):\n",
    "    mel_inv = np.linalg.pinv(ap.mel_matrix.eval())\n",
    "    spect_mag_reconstructed = (mel_spect @ mel_inv)\n",
    "    \n",
    "    if true_spect is not None:\n",
    "        phase = tf.angle(tf.constant(true_spect))\n",
    "    else:\n",
    "        phase = tf.random_uniform(spect_mag_reconstructed.shape, 2 * np.pi)\n",
    "        \n",
    "    spect_reconstructed = tf.complex(spect_mag_reconstructed * tf.cos(phase), spect_mag_reconstructed * tf.sin(phase))\n",
    "    audio = tf.contrib.signal.inverse_stft(spect_reconstructed, model_settings['window_samples'], \n",
    "                                           model_settings['window_stride_samples'], model_settings['fft_size'])\n",
    "    return audio.eval()"
   ]
  },
  {
   "cell_type": "code",
   "execution_count": 53,
   "metadata": {},
   "outputs": [],
   "source": [
    "signals, background, signals_mixed, spect, mel_spectras, labels = ap.get_data(True)"
   ]
  },
  {
   "cell_type": "code",
   "execution_count": 54,
   "metadata": {},
   "outputs": [
    {
     "name": "stdout",
     "output_type": "stream",
     "text": [
      "(16000,)\n"
     ]
    }
   ],
   "source": [
    "print(background.shape)"
   ]
  },
  {
   "cell_type": "code",
   "execution_count": 55,
   "metadata": {},
   "outputs": [],
   "source": [
    "play_example = False\n",
    "if play_example:\n",
    "    ap.iter.initializer.run(feed_dict={ap.x_src: ap.train_set[0], ap.y_src: ap.train_set[1]})\n",
    "#     play_audio(FLAGS['sampling_rate'],reconstruct_audio_from_mel(spectras[0,:,:], model_settings, spectras_true[0,:,:]))\n",
    "    play_audio(FLAGS['sampling_rate'], signals_mixed.eval()[0])"
   ]
  },
  {
   "cell_type": "code",
   "execution_count": 56,
   "metadata": {},
   "outputs": [],
   "source": [
    "def conv_model(model_settings, fingerprint, num_labels):\n",
    "    if fingerprint.shape[1] != model_settings['lenght_in_samples'] or fingerprint.shape[2] != model_settings['mel_num_bins']:\n",
    "        raise RuntimeError(\"Unexpected input: \" + str(fingerprint.shape))\n",
    "    h = tf.expand_dims(fingerprint, -1) #Add dimension at the end as as channels\n",
    "    h = tf.layers.conv2d(h, 64, [20, 8], activation=tf.nn.relu) #[time span, freq_span]\n",
    "    h = tf.layers.max_pooling2d(h, [1,3], [1,3])\n",
    "    h = tf.layers.conv2d(h, 64, [10, 4], activation=tf.nn.relu)\n",
    "    h = tf.layers.flatten(h)\n",
    "    h = tf.layers.dense(h, 128, activation=tf.nn.relu)\n",
    "    h = tf.layers.dense(h, num_labels)\n",
    "    scores = h\n",
    "    return scores\n",
    "        \n",
    "scores = conv_model(model_settings, mel_spectras, len(FLAGS['wanted_words']))\n",
    "xent = tf.nn.sparse_softmax_cross_entropy_with_logits(labels=labels, logits=scores)\n",
    "loss = tf.reduce_mean(xent)\n",
    "loss_summary = tf.summary.scalar(\"loss\", loss)\n",
    "pred = tf.argmax(scores, 1, output_type=tf.int32)\n",
    "accuracy = tf.reduce_mean(tf.cast(tf.equal(pred,labels), tf.float32))\n",
    "accuracy_summary = tf.summary.scalar(\"accuracy\", accuracy)\n",
    "merged_summary = tf.summary.merge([loss_summary, accuracy_summary])"
   ]
  },
  {
   "cell_type": "code",
   "execution_count": 57,
   "metadata": {},
   "outputs": [],
   "source": [
    "optim = tf.train.AdamOptimizer(FLAGS['lr'])\n",
    "step = optim.minimize(loss)\n",
    "global_step = tf.train.get_or_create_global_step()\n",
    "increment_step = tf.assign(global_step, global_step+1)\n",
    "\n",
    "saver = tf.train.Saver(tf.global_variables())\n",
    "train_writer = tf.summary.FileWriter('train_log', isess.graph)\n",
    "valid_writer = tf.summary.FileWriter('valid_log')"
   ]
  },
  {
   "cell_type": "code",
   "execution_count": 58,
   "metadata": {},
   "outputs": [],
   "source": [
    "tf.global_variables_initializer().run()"
   ]
  },
  {
   "cell_type": "code",
   "execution_count": 59,
   "metadata": {},
   "outputs": [],
   "source": [
    "#saver.restore(isess, \"checkpoints/conv.ckpt-27\")"
   ]
  },
  {
   "cell_type": "code",
   "execution_count": 60,
   "metadata": {
    "scrolled": false
   },
   "outputs": [
    {
     "name": "stdout",
     "output_type": "stream",
     "text": [
      "Epoch 0:                              loss 1.654 acc 0.577\n",
      "Saving to checkpoints/conv.ckpt\n",
      "Validation 0:                                                  loss 0.566 acc 0.636\n",
      "Epoch 1:                              loss 0.472 acc 0.788\n",
      "Saving to checkpoints/conv.ckpt\n",
      "Validation 1:                                                  loss 0.444 acc 0.864\n",
      "Epoch 2:                              loss 0.247 acc 0.942\n",
      "Saving to checkpoints/conv.ckpt\n",
      "Validation 2:                                                  loss 0.412 acc 0.818\n",
      "Epoch 3:                              loss 0.177 acc 0.923\n",
      "Saving to checkpoints/conv.ckpt\n",
      "Validation 3:                                                  loss 0.587 acc 0.773\n",
      "Epoch 4:                              loss 0.128 acc 0.962\n",
      "Saving to checkpoints/conv.ckpt\n",
      "Validation 4:                                                  loss 0.285 acc 0.864\n",
      "Epoch 5:                              loss 0.052 acc 1.000\n",
      "Saving to checkpoints/conv.ckpt\n",
      "Validation 5:                                                  loss 0.333 acc 0.864\n",
      "Epoch 6:                              loss 0.033 acc 1.000\n",
      "Saving to checkpoints/conv.ckpt\n",
      "Validation 6:                                                  loss 0.452 acc 0.864\n",
      "Epoch 7:                              loss 0.024 acc 1.000\n",
      "Saving to checkpoints/conv.ckpt\n",
      "Validation 7:                                                  loss 0.409 acc 0.909\n",
      "Epoch 8:                              loss 0.020 acc 1.000\n",
      "Saving to checkpoints/conv.ckpt\n",
      "Validation 8:                                                  loss 0.461 acc 0.864\n",
      "Epoch 9:                              loss 0.013 acc 1.000\n",
      "Saving to checkpoints/conv.ckpt\n",
      "Validation 9:                                                  loss 0.532 acc 0.864\n"
     ]
    }
   ],
   "source": [
    "epochs = 10\n",
    "for epoch in range(epochs):\n",
    "    #train\n",
    "    ap.iter.initializer.run(feed_dict={ap.x_src: ap.train_set[0], ap.y_src: ap.train_set[1]})\n",
    "    e_sum = 0\n",
    "    mean_acc = 0\n",
    "    for i in count():\n",
    "        try:\n",
    "            train_summary, loss_val, acc_val, _, _ = isess.run([merged_summary, loss, accuracy, step, increment_step])\n",
    "            e_sum += loss_val\n",
    "            mean_acc +=acc_val\n",
    "            train_writer.add_summary(train_summary, global_step.eval())\n",
    "        except tf.errors.OutOfRangeError:\n",
    "            break\n",
    "    print(\"Epoch {}:{}loss {:.3f} acc {:.3f}\".format(epoch,\" \"*30, (e_sum/i), (mean_acc/i)))\n",
    "    print(\"Saving to {}\".format(FLAGS['checkpoint_dir']))\n",
    "    saver.save(isess, FLAGS['checkpoint_dir'], global_step=global_step.eval())\n",
    "    \n",
    "    #valid\n",
    "    ap.iter.initializer.run(feed_dict={ap.x_src: ap.valid_set[0], ap.y_src: ap.valid_set[1]})\n",
    "    e_sum = 0\n",
    "    mean_acc = 0\n",
    "    for i in count():\n",
    "        try:\n",
    "            valid_summary, loss_val, acc_val, = isess.run([merged_summary, loss, accuracy])\n",
    "            e_sum += loss_val\n",
    "            mean_acc += acc_val\n",
    "            valid_writer.add_summary(valid_summary, epoch)\n",
    "        except tf.errors.OutOfRangeError:\n",
    "            break\n",
    "    print(\"Validation {}:{}loss {:.3f} acc {:.3f}\".format(epoch,\" \"*50, (e_sum/i), (mean_acc/i)))\n"
   ]
  },
  {
   "cell_type": "markdown",
   "metadata": {},
   "source": [
    "### Random tests"
   ]
  },
  {
   "cell_type": "code",
   "execution_count": null,
   "metadata": {},
   "outputs": [],
   "source": [
    "data = [ ['ą','as'], ['b', 'bas'] ]\n",
    "p = tf.placeholder(tf.string, [None, 2])\n",
    "pa = p+'a'\n",
    "pa = sess.run(pa, feed_dict={p:data})\n",
    "str(pa[0][0].decode(\"utf-8\"))"
   ]
  },
  {
   "cell_type": "code",
   "execution_count": 32,
   "metadata": {},
   "outputs": [
    {
     "ename": "ValueError",
     "evalue": "operands could not be broadcast together with shapes (5,10) (5,) ",
     "output_type": "error",
     "traceback": [
      "\u001b[1;31m---------------------------------------------------------------------------\u001b[0m",
      "\u001b[1;31mValueError\u001b[0m                                Traceback (most recent call last)",
      "\u001b[1;32m<ipython-input-32-a306ec796030>\u001b[0m in \u001b[0;36m<module>\u001b[1;34m()\u001b[0m\n\u001b[0;32m      1\u001b[0m \u001b[0ma\u001b[0m \u001b[1;33m=\u001b[0m \u001b[0mnp\u001b[0m\u001b[1;33m.\u001b[0m\u001b[0mones\u001b[0m\u001b[1;33m(\u001b[0m\u001b[1;33m(\u001b[0m\u001b[1;36m5\u001b[0m\u001b[1;33m,\u001b[0m\u001b[1;36m10\u001b[0m\u001b[1;33m)\u001b[0m\u001b[1;33m)\u001b[0m\u001b[1;33m\u001b[0m\u001b[0m\n\u001b[0;32m      2\u001b[0m \u001b[0mb\u001b[0m \u001b[1;33m=\u001b[0m \u001b[0mnp\u001b[0m\u001b[1;33m.\u001b[0m\u001b[0mones\u001b[0m\u001b[1;33m(\u001b[0m\u001b[1;33m(\u001b[0m\u001b[1;36m5\u001b[0m\u001b[1;33m,\u001b[0m\u001b[1;33m)\u001b[0m\u001b[1;33m)\u001b[0m\u001b[1;33m\u001b[0m\u001b[0m\n\u001b[1;32m----> 3\u001b[1;33m \u001b[0ma\u001b[0m\u001b[1;33m+\u001b[0m\u001b[0mb\u001b[0m\u001b[1;33m\u001b[0m\u001b[0m\n\u001b[0m",
      "\u001b[1;31mValueError\u001b[0m: operands could not be broadcast together with shapes (5,10) (5,) "
     ]
    }
   ],
   "source": [
    "a = np.ones((5,10))\n",
    "b = np.ones((5,))\n",
    "a+b"
   ]
  }
 ],
 "metadata": {
  "kernelspec": {
   "display_name": "Python 3",
   "language": "python",
   "name": "python3"
  },
  "language_info": {
   "codemirror_mode": {
    "name": "ipython",
    "version": 3
   },
   "file_extension": ".py",
   "mimetype": "text/x-python",
   "name": "python",
   "nbconvert_exporter": "python",
   "pygments_lexer": "ipython3",
   "version": "3.6.3"
  }
 },
 "nbformat": 4,
 "nbformat_minor": 2
}
