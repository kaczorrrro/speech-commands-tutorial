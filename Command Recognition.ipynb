{
 "cells": [
  {
   "cell_type": "code",
   "execution_count": 1,
   "metadata": {},
   "outputs": [
    {
     "name": "stderr",
     "output_type": "stream",
     "text": [
      "/home/sebastian/miniconda3/lib/python3.6/site-packages/h5py/__init__.py:36: FutureWarning: Conversion of the second argument of issubdtype from `float` to `np.floating` is deprecated. In future, it will be treated as `np.float64 == np.dtype(float).type`.\n",
      "  from ._conv import register_converters as _register_converters\n"
     ]
    },
    {
     "name": "stdout",
     "output_type": "stream",
     "text": [
      "Using matplotlib backend: Qt5Agg\n"
     ]
    }
   ],
   "source": [
    "import numpy as np\n",
    "import tensorflow as tf\n",
    "import random\n",
    "from tensorflow.python.platform import gfile\n",
    "from tensorflow.contrib.framework.python.ops import audio_ops as contrib_audio\n",
    "from tensorflow.python.ops import io_ops\n",
    "from matplotlib import pyplot as plt\n",
    "from itertools import count\n",
    "import os\n",
    "%matplotlib "
   ]
  },
  {
   "cell_type": "code",
   "execution_count": 48,
   "metadata": {},
   "outputs": [],
   "source": [
    "#Use this if summaries live longer than they should\n",
    "tf.reset_default_graph()\n",
    "try:\n",
    "    isess.close()\n",
    "except NameError:\n",
    "    pass\n",
    "isess = tf.InteractiveSession()"
   ]
  },
  {
   "cell_type": "code",
   "execution_count": 49,
   "metadata": {},
   "outputs": [],
   "source": [
    "FLAGS = {}\n",
    "FLAGS['dataset_dir'] = r\"/mnt/6A0850980850655B/Datasets/commnads/audio\"\n",
    "FLAGS['wanted_words'] = ['zero', 'one', 'two', 'three', 'four', 'five', 'six', 'seven', 'eight', 'nine'] \n",
    "\n",
    "FLAGS['background_dir'] = \"_background_noise_\"\n",
    "FLAGS['clip_time_ms'] = 1000\n",
    "FLAGS['window_time_ms'] = 30\n",
    "FLAGS['window_stride_ms'] = 10\n",
    "\n",
    "FLAGS['sampling_rate'] = 16000\n",
    "FLAGS['mel_num_bins'] = 40\n",
    "FLAGS['mel_f_min'] = 40\n",
    "FLAGS['mel_f_max'] = FLAGS['sampling_rate']/2\n",
    "\n",
    "FLAGS['lr'] = 1e-4\n",
    "FLAGS['batch_size'] = 128\n",
    "#dataset is extended by this percent\n",
    "FLAGS['unknown_percent'] = 10\n",
    "FLAGS['silence_percent'] = 10\n",
    "\n",
    "FLAGS['valid_percent'] = 10\n",
    "FLAGS['train_log'] = 'train_log'\n",
    "FLAGS['valid_log'] = 'valid_log'\n",
    "FLAGS['checkpoint_dir'] = 'checkpoints/conv.ckpt'\n",
    "FLAGS['background_volume'] = 0.0\n",
    "FLAGS['target_rms'] = 0.1\n",
    "\n",
    "#override settings\n",
    "flags_dev ={\n",
    "    'dataset_dir':  r\"dev_audio\",\n",
    "    'wanted_words': ['nine', 'seven'],\n",
    "    'batch_size':   2\n",
    "}\n",
    "\n",
    "for flag in flags_dev:\n",
    "    FLAGS[flag] = flags_dev[flag]\n",
    "    pass"
   ]
  },
  {
   "cell_type": "code",
   "execution_count": 50,
   "metadata": {},
   "outputs": [],
   "source": [
    "def play_audio(fs, data):\n",
    "    from io import BytesIO\n",
    "    from scipy.io import wavfile\n",
    "    import pyaudio \n",
    "    import wave  \n",
    "    \n",
    "    if data.dtype == np.float32:\n",
    "        max_abs = np.max(np.abs(data))\n",
    "        if max_abs > 1.0:\n",
    "            print(\"Loudest point was {}, so data will be scaled...\".format(max_abs))\n",
    "            data = data/max_abs\n",
    "        data = (data*(1<<15)).astype(np.int16)\n",
    "    elif data.dtype == np.int16:\n",
    "        pass\n",
    "    else:\n",
    "        raise RuntimeError(\"Data type unsupported\")\n",
    "        \n",
    "    with BytesIO() as buffer:\n",
    "        p = pyaudio.PyAudio()\n",
    "        wavfile.write(buffer, fs, data)\n",
    "        f = wave.open(buffer,\"rb\")  \n",
    "        #define stream chunk   \n",
    "        chunk = 1024  \n",
    "        \n",
    "        stream = p.open(format = p.get_format_from_width(f.getsampwidth()),  \n",
    "                        channels = f.getnchannels(),  \n",
    "                        rate = f.getframerate(),  \n",
    "                        output = True)  \n",
    "        \n",
    "        #read data  \n",
    "        audio_data = f.readframes(chunk)\n",
    "\n",
    "        #play stream  \n",
    "        while audio_data:  \n",
    "            stream.write(audio_data)  \n",
    "            audio_data = f.readframes(chunk)  \n",
    "\n",
    "        #stop stream  \n",
    "        stream.stop_stream()  \n",
    "        stream.close()  \n",
    "        p.terminate()"
   ]
  },
  {
   "cell_type": "code",
   "execution_count": 51,
   "metadata": {},
   "outputs": [],
   "source": [
    "def get_model_settings(clip_time_ms, sampling_rate, window_time_ms, window_stride_time_ms, mel_f_min, mel_f_max, mel_num_bins, \n",
    "                       background_volume):\n",
    "    clip_samples = int(clip_time_ms * sampling_rate / 1000)\n",
    "    window_samples = int(window_time_ms * sampling_rate / 1000)\n",
    "    window_stride_samples = int(window_stride_time_ms * sampling_rate / 1000)\n",
    "    length_in_samples = 1 + int((clip_samples - window_samples) / window_stride_samples)\n",
    "    fft_size = int(2**np.ceil(np.log2(window_samples)))\n",
    "    settings = {\n",
    "        'clip_samples':          clip_samples,\n",
    "        'window_samples':        window_samples,\n",
    "        'window_stride_samples':window_stride_samples,\n",
    "        'fingerprint_size':      length_in_samples*mel_num_bins,\n",
    "        'sampling_rate':         sampling_rate,\n",
    "        'mel_f_min':             mel_f_min,\n",
    "        'mel_f_max':             mel_f_max,\n",
    "        'mel_num_bins':          mel_num_bins,\n",
    "        'lenght_in_samples':     length_in_samples,\n",
    "        'fft_size':              fft_size,\n",
    "        'background_volume':     background_volume\n",
    "    }\n",
    "    return settings\n",
    "\n",
    "def get_training_settings(batch_size, valid_percent, unknown_percent, silence_percent):\n",
    "    settings = {\n",
    "        'batch_size':          batch_size,\n",
    "        'valid_percent':       valid_percent,\n",
    "        'unknown_percent':     unknown_percent,\n",
    "        'silence_percent':     silence_percent\n",
    "    }\n",
    "    return settings\n",
    "\n",
    "model_settings = get_model_settings(FLAGS['clip_time_ms'], FLAGS['sampling_rate'], FLAGS['window_time_ms'],\n",
    "                                    FLAGS['window_stride_ms'], FLAGS['mel_f_min'], FLAGS['mel_f_max'], FLAGS['mel_num_bins'],\n",
    "                                    FLAGS['background_volume'])\n",
    "training_settings = get_training_settings(FLAGS['batch_size'], FLAGS['valid_percent'], FLAGS['unknown_percent'], \n",
    "                                          FLAGS['silence_percent'])\n",
    "    "
   ]
  },
  {
   "cell_type": "code",
   "execution_count": 52,
   "metadata": {
    "scrolled": false
   },
   "outputs": [
    {
     "name": "stdout",
     "output_type": "stream",
     "text": [
      "Preparing mel matrix\n",
      "Preparing mel matrix finished\n",
      "Indexing audio files\n",
      "Examples per word:\n",
      "{'nine': 36, 'seven': 36}\n",
      "Indexing audio files finished\n",
      "Loading backgrounds\n",
      "Loading backgrounds finished\n"
     ]
    }
   ],
   "source": [
    "#TODO: normalize input signal, clip->normalize mixed signal\n",
    "class AudioProcessor:\n",
    "    def __init__(self, dataset_dir, background_dir, wanted_words, model_settings, training_settings):\n",
    "        self._model_settings = model_settings\n",
    "        self._mel_matrix = tf.constant(self.prepare_to_mel_matrix())\n",
    "        self.unknown_label, self.silence_label = '_unknown_', '_silence_'\n",
    "        self.id_to_label =  wanted_words + [self.unknown_label, self.silence_label]\n",
    "        self.label_to_id = {label:i for i, label in enumerate(self.id_to_label)}\n",
    "        self.train_set, self.valid_set, background_paths = self.load_audio(wanted_words, dataset_dir, background_dir, training_settings)\n",
    "        self._next_background = self.process_backgrounds(background_paths)\n",
    "        self.x_src, self.y_src, self.iter = self.prepare_datasets(len(wanted_words), training_settings)\n",
    "        self._signals, self._labels = self.iter.get_next()\n",
    "        \n",
    "    def prepare_to_mel_matrix(self):\n",
    "        print(\"Preparing mel matrix\")\n",
    "        mel_num_bins = self._model_settings['mel_num_bins']\n",
    "        mel_f_min = self._model_settings['mel_f_min']\n",
    "        mel_f_max = self._model_settings['mel_f_max']\n",
    "        num_spectrogram_bins = self._model_settings['fft_size']//2+1\n",
    "        fs = self._model_settings['sampling_rate']\n",
    "\n",
    "        linear_to_mel_weight_matrix = tf.contrib.signal.linear_to_mel_weight_matrix(\n",
    "          mel_num_bins, num_spectrogram_bins, fs, mel_f_min, mel_f_max)\n",
    "        with tf.Session() as sess:\n",
    "            out = linear_to_mel_weight_matrix.eval(session=sess)\n",
    "        print(\"Preparing mel matrix finished\")\n",
    "        return out\n",
    "    \n",
    "    def load_audio(self, wanted_words, dataset_dir, background_dir, training_settings):\n",
    "        \"\"\"\n",
    "            Finds all wave files in dataset directory and arranges them into word -> list of files\n",
    "        \"\"\"\n",
    "        print(\"Indexing audio files\")\n",
    "        wanted_words = {word: 0 for word in wanted_words}\n",
    "        index = []\n",
    "        unknown_index = []\n",
    "        background_paths = []\n",
    "        search_path = os.path.join(dataset_dir, '*', '*.wav')\n",
    "        for wav_path in gfile.Glob(search_path):\n",
    "            _, word = os.path.split(os.path.dirname(wav_path))\n",
    "            if word == background_dir:\n",
    "                background_paths.append(wav_path)\n",
    "                continue\n",
    "            if word in wanted_words:\n",
    "                wanted_words[word] += 1\n",
    "                index.append((wav_path, self.label_to_id[word]))\n",
    "            else:\n",
    "                unknown_index.append((wav_path, self.label_to_id[self.unknown_label]))\n",
    "        \n",
    "        if not all(wanted_words.values()):\n",
    "            raise RuntimeError(\"Didn't find any audio for {}\".format([w for w in wanted_words if not wanted_words[w]]))\n",
    "        \n",
    "        #append some unknown words\n",
    "        random.shuffle(unknown_index)\n",
    "        unknown_elems = min( int(round(len(index) * training_settings['unknown_percent'] / 100)), len(unknown_index) )\n",
    "        index.extend(unknown_index[:unknown_elems])\n",
    "        \n",
    "        #append silence - volume will be set to 0, so any filename is ok\n",
    "        silence_elems = int(len(index) * training_settings['silence_percent'] / 100)\n",
    "        silence_element = (index[0][0], self.label_to_id[self.silence_label]) # (some .wav file, silence index)\n",
    "        for _ in range(silence_elems):\n",
    "            index.append(silence_element)\n",
    "        \n",
    "        random.shuffle(index)\n",
    "        valid_size = int(len(index)*training_settings['valid_percent']/100)\n",
    "        \n",
    "        #list of tuples -> tuple of lists\n",
    "        valid = list(zip(*index[0:valid_size]))\n",
    "        train = list(zip(*index[valid_size:] ))\n",
    "        \n",
    "    \n",
    "        print(\"Examples per word:\")\n",
    "        print(wanted_words)\n",
    "        print(\"Indexing audio files finished\")\n",
    "        return train, valid, background_paths\n",
    "    \n",
    "    def load_wav(self, path, desired_samples=-1):\n",
    "        wav_loader = io_ops.read_file(path)\n",
    "        audio, fs = contrib_audio.decode_wav(wav_loader, desired_channels=1, desired_samples=desired_samples)\n",
    "        tf.Assert(tf.equal(fs, self._model_settings['sampling_rate']), [fs])\n",
    "        audio = tf.squeeze(audio)\n",
    "        return audio\n",
    "    \n",
    "    def process_backgrounds(self, background_paths):\n",
    "        print(\"Loading backgrounds\")\n",
    "        path_input = tf.placeholder(tf.string)\n",
    "        wav_out = self.load_wav(path_input)\n",
    "        rms_scale_factor = (tf.sqrt(tf.reduce_mean(wav_out**2)) / FLAGS['target_rms'])\n",
    "        wav_out = tf.clip_by_value(wav_out / rms_scale_factor, -1, 1)\n",
    "        with tf.Session() as sess:\n",
    "            wavs = [ sess.run(wav_out, feed_dict={path_input:path}) for path in background_paths ]\n",
    "            \n",
    "        #to limit RAM usage, instead of using dataset.from_tensor_slices (which creates huge copies of\n",
    "        #of wav_out, taking more than x4 memory than they should) we create generator that returns data\n",
    "        #wav_out, that is referenced in this generator, is never freed since tf doesn't delete datasets\n",
    "        #this causes about 35 MB leak per AudioProcessor creation\n",
    "        #UPDATE - this leak should no longer happen - TODO check this\n",
    "        def gen():\n",
    "            num_examples = len(wavs)\n",
    "            clip_samples = self._model_settings['clip_samples']\n",
    "            while True:\n",
    "                example_no = random.randint(0, num_examples-1)\n",
    "                wav_data = wavs[example_no]\n",
    "                random_offset = random.randint(0, wav_data.size-1-clip_samples)\n",
    "                yield wav_data[random_offset:random_offset+clip_samples]\n",
    "                \n",
    "        next_background = tf.data.Dataset.from_generator(gen, tf.float32, output_shapes=(self._model_settings['clip_samples'],))\\\n",
    "                          .make_one_shot_iterator().get_next()\n",
    "        print(\"Loading backgrounds finished\")\n",
    "        return next_background\n",
    "        \n",
    "    def prepare_datasets(self, num_labels, training_settings):\n",
    "        clip_samples = self._model_settings['clip_samples']\n",
    "        \n",
    "        x_src = tf.placeholder(tf.string, (None,))\n",
    "        y_src = tf.placeholder(tf.int32,  (None,))\n",
    "        x_data = tf.data.Dataset.from_tensor_slices(x_src).map(lambda path: self.load_wav(path, clip_samples))\n",
    "        y_data = tf.data.Dataset.from_tensor_slices(y_src)\n",
    "        dataset = tf.data.Dataset.zip((x_data, y_data)).batch(training_settings['batch_size'])\n",
    "            \n",
    "        return x_src, y_src, dataset.make_initializable_iterator()\n",
    "    \n",
    "    def signal_to_mel(self, signals, debug_stuff = False):\n",
    "        \"\"\"\n",
    "            signals: [num_signals, num_signal_samples]\n",
    "        \"\"\"\n",
    "        frame_len = self._model_settings['window_samples']\n",
    "        frame_step = self._model_settings['window_stride_samples']\n",
    "        fft_size = self._model_settings['fft_size']\n",
    "        \n",
    "        \n",
    "        spect = tf.contrib.signal.stft(signals, frame_len, frame_step, fft_size)\n",
    "        spect_mag = tf.abs(spect)\n",
    "        mel_spect = tf.tensordot(spect_mag, self._mel_matrix, 1)\n",
    "        \n",
    "        if debug_stuff:\n",
    "            return spect, mel_spect\n",
    "        else:\n",
    "            return mel_spect\n",
    "        \n",
    "\n",
    "    def get_data(self, debug_stuff = False):\n",
    "        \"\"\"\n",
    "            Applies random transforms, and returns audio as spectrograms\n",
    "        \"\"\"\n",
    "        signals, labels = self._signals, self._labels\n",
    "        background = self._next_background[0:signals.shape[1]]\n",
    "        background_volume = self._model_settings['background_volume']\n",
    "        \n",
    "        #volume = 0 for silence, 1 for rest\n",
    "        foreground_volume = tf.cast(tf.not_equal(labels, self.label_to_id[self.silence_label]), tf.float32)[:, None]\n",
    "        signals_mixed = foreground_volume * signals + background_volume * background\n",
    "        signals_mixed = tf.clip_by_value(signals_mixed, -1, 1)\n",
    "\n",
    "        if debug_stuff:\n",
    "            spect, mel_spect = self.signal_to_mel(signals_mixed, debug_stuff)\n",
    "            return signals, background, signals_mixed, spect, mel_spect, labels\n",
    "        else:\n",
    "            mel_spect = self.signal_to_mel(signals_mixed, debug_stuff)\n",
    "            return mel_spect, labels\n",
    "            \n",
    "\n",
    "ap = AudioProcessor(FLAGS['dataset_dir'], FLAGS['background_dir'], FLAGS['wanted_words'], model_settings, training_settings)"
   ]
  },
  {
   "cell_type": "code",
   "execution_count": 53,
   "metadata": {},
   "outputs": [],
   "source": [
    "def reconstruct_audio_from_mel(mel_spect, model_settings, true_spect = None):\n",
    "    mel_inv = np.linalg.pinv(ap._mel_matrix.eval())\n",
    "    spect_mag_reconstructed = (mel_spect @ mel_inv)\n",
    "    \n",
    "    if true_spect is not None:\n",
    "        phase = tf.angle(tf.constant(true_spect))\n",
    "    else:\n",
    "        phase = tf.random_uniform(spect_mag_reconstructed.shape, 2 * np.pi)\n",
    "        \n",
    "    spect_reconstructed = tf.complex(spect_mag_reconstructed * tf.cos(phase), spect_mag_reconstructed * tf.sin(phase))\n",
    "    audio = tf.contrib.signal.inverse_stft(spect_reconstructed, model_settings['window_samples'], \n",
    "                                           model_settings['window_stride_samples'], model_settings['fft_size'])\n",
    "    return audio.eval()"
   ]
  },
  {
   "cell_type": "code",
   "execution_count": 54,
   "metadata": {},
   "outputs": [],
   "source": [
    "signals, background, signals_mixed, spect, mel_spectras, labels = ap.get_data(True)"
   ]
  },
  {
   "cell_type": "code",
   "execution_count": 55,
   "metadata": {},
   "outputs": [],
   "source": [
    "play_example = False\n",
    "example_id = 0\n",
    "if play_example:\n",
    "#     ap.iter.initializer.run(feed_dict={ap.x_src: ap.train_set[0], ap.y_src: ap.train_set[1]})\n",
    "    vals = isess.run((signals, background, signals_mixed, spect, mel_spectras, labels))\n",
    "    s, b, sm, sp, ms, lab = [v[example_id] for v in vals]\n",
    "\n",
    "    print(ap.id_to_label[lab])\n",
    "    print(np.max(np.abs(sm)))\n",
    "    play_audio(FLAGS['sampling_rate'], reconstruct_audio_from_mel(ms, model_settings, sp) )#reconstructed with true phase\n",
    "    play_audio(FLAGS['sampling_rate'], reconstruct_audio_from_mel(ms, model_settings) )    #reconstructed without phase\n",
    "    play_audio(FLAGS['sampling_rate'], sm )                                                #mixed signals before stft    "
   ]
  },
  {
   "cell_type": "code",
   "execution_count": 56,
   "metadata": {},
   "outputs": [],
   "source": [
    "def conv_model(model_settings, fingerprint, num_labels, reuse=tf.AUTO_REUSE):\n",
    "    if fingerprint.shape[1] != model_settings['lenght_in_samples'] or fingerprint.shape[2] != model_settings['mel_num_bins']:\n",
    "        raise RuntimeError(\"Unexpected input: \" + str(fingerprint.shape))\n",
    "\n",
    "    h = tf.expand_dims(fingerprint, -1) #Add dimension at the end as as channels\n",
    "    h = tf.layers.conv2d(h, 64, [20, 8], activation=tf.nn.relu, name='conv1', reuse=reuse) #[time span, freq_span]\n",
    "    h = tf.layers.max_pooling2d(h, [1,3], [1,3])\n",
    "    h = tf.layers.conv2d(h, 64, [10, 4], activation=tf.nn.relu, name='conv2', reuse=reuse)\n",
    "    h = tf.layers.flatten(h)\n",
    "    h = tf.layers.dense(h, 128, activation=tf.nn.relu, name='dense1', reuse=reuse)\n",
    "    h = tf.layers.dense(h, num_labels, name='dense2', reuse=reuse)\n",
    "    scores = h\n",
    "    return scores\n",
    "        \n",
    "scores = conv_model(model_settings, mel_spectras, len(ap.id_to_label), reuse=False)\n",
    "xent = tf.nn.sparse_softmax_cross_entropy_with_logits(labels=labels, logits=scores)\n",
    "loss = tf.reduce_mean(xent)\n",
    "loss_summary = tf.summary.scalar(\"loss\", loss)\n",
    "pred = tf.argmax(scores, 1, output_type=tf.int32)\n",
    "accuracy = tf.reduce_mean(tf.cast(tf.equal(pred,labels), tf.float32))\n",
    "accuracy_summary = tf.summary.scalar(\"accuracy\", accuracy)\n",
    "merged_summary = tf.summary.merge([loss_summary, accuracy_summary])"
   ]
  },
  {
   "cell_type": "code",
   "execution_count": 57,
   "metadata": {},
   "outputs": [],
   "source": [
    "optim = tf.train.AdamOptimizer(FLAGS['lr'])\n",
    "step = optim.minimize(loss)\n",
    "global_step = tf.train.get_or_create_global_step()\n",
    "increment_step = tf.assign(global_step, global_step+1)\n",
    "\n",
    "saver = tf.train.Saver(tf.global_variables())\n",
    "train_writer = tf.summary.FileWriter('train_log', isess.graph)\n",
    "valid_writer = tf.summary.FileWriter('valid_log')"
   ]
  },
  {
   "cell_type": "code",
   "execution_count": 58,
   "metadata": {},
   "outputs": [],
   "source": [
    "tf.global_variables_initializer().run()"
   ]
  },
  {
   "cell_type": "code",
   "execution_count": 59,
   "metadata": {},
   "outputs": [],
   "source": [
    "#saver.restore(isess, \"checkpoints/conv.ckpt-27\")"
   ]
  },
  {
   "cell_type": "markdown",
   "metadata": {},
   "source": [
    "## Training"
   ]
  },
  {
   "cell_type": "code",
   "execution_count": 62,
   "metadata": {
    "scrolled": true
   },
   "outputs": [
    {
     "name": "stdout",
     "output_type": "stream",
     "text": [
      "38/39: loss 0.004 acc 1.000\n",
      "Epoch 0:                              loss 0.046 acc 1.000\n",
      "Saving to checkpoints/conv.ckpt\n",
      "Validation 0:                                                  loss 0.863 acc 0.750\n",
      "38/39: loss 0.002 acc 1.000\n",
      "Epoch 1:                              loss 0.024 acc 1.000\n",
      "Saving to checkpoints/conv.ckpt\n",
      "Validation 1:                                                  loss 1.053 acc 0.750\n",
      "38/39: loss 0.002 acc 1.000\n",
      "Epoch 2:                              loss 0.017 acc 1.000\n",
      "Saving to checkpoints/conv.ckpt\n",
      "Validation 2:                                                  loss 1.198 acc 0.750\n",
      "38/39: loss 0.001 acc 1.000\n",
      "Epoch 3:                              loss 0.013 acc 1.000\n",
      "Saving to checkpoints/conv.ckpt\n",
      "Validation 3:                                                  loss 1.359 acc 0.750\n",
      "38/39: loss 0.001 acc 1.000\n",
      "Epoch 4:                              loss 0.010 acc 1.000\n",
      "Saving to checkpoints/conv.ckpt\n",
      "Validation 4:                                                  loss 1.519 acc 0.750\n"
     ]
    }
   ],
   "source": [
    "epochs = 5\n",
    "for epoch in range(epochs):\n",
    "    #train\n",
    "    ap.iter.initializer.run(feed_dict={ap.x_src: ap.train_set[0], ap.y_src: ap.train_set[1]})\n",
    "    e_sum = 0\n",
    "    mean_acc = 0\n",
    "    for i in count():\n",
    "        try:\n",
    "            train_summary, loss_val, acc_val, _, _ = isess.run([merged_summary, loss, accuracy, step, increment_step])\n",
    "            e_sum += loss_val\n",
    "            mean_acc +=acc_val\n",
    "            train_writer.add_summary(train_summary, global_step.eval())\n",
    "            print(\"{}/{}: loss {:.3f} acc {:.3f}\".format(i, \n",
    "                                                         len(ap.train_set[0])//FLAGS['batch_size'],\n",
    "                                                         loss_val, \n",
    "                                                         acc_val),\n",
    "                  end='\\r')\n",
    "        except tf.errors.OutOfRangeError:\n",
    "            break\n",
    "    print()\n",
    "    print(\"Epoch {}:{}loss {:.3f} acc {:.3f}\".format(epoch,\" \"*30, (e_sum/i), (mean_acc/i)))\n",
    "    print(\"Saving to {}\".format(FLAGS['checkpoint_dir']))\n",
    "    saver.save(isess, FLAGS['checkpoint_dir'], global_step=global_step.eval())\n",
    "    \n",
    "    #valid\n",
    "    ap.iter.initializer.run(feed_dict={ap.x_src: ap.valid_set[0], ap.y_src: ap.valid_set[1]})\n",
    "    e_sum = 0\n",
    "    mean_acc = 0\n",
    "    for i in count():\n",
    "        try:\n",
    "            valid_summary, loss_val, acc_val, = isess.run([merged_summary, loss, accuracy])\n",
    "            e_sum += loss_val\n",
    "            mean_acc += acc_val\n",
    "            valid_writer.add_summary(valid_summary, epoch)\n",
    "        except tf.errors.OutOfRangeError:\n",
    "            break\n",
    "    print(\"Validation {}:{}loss {:.3f} acc {:.3f}\".format(epoch,\" \"*50, (e_sum/i), (mean_acc/i)))\n"
   ]
  },
  {
   "cell_type": "markdown",
   "metadata": {},
   "source": [
    "## Demo"
   ]
  },
  {
   "cell_type": "code",
   "execution_count": 63,
   "metadata": {},
   "outputs": [],
   "source": [
    "def single_file_processing_graph():\n",
    "    filename = tf.placeholder(tf.string)\n",
    "    audio_tensor = ap.load_wav(filename, model_settings['clip_samples'])[None, :]\n",
    "    mel_spect = ap.signal_to_mel(audio_tensor)\n",
    "    nn_output = conv_model(model_settings, mel_spect, len(ap.id_to_label))\n",
    "    pred_label = tf.argmax(nn_output, 1, output_type=tf.int32)\n",
    "    return filename, nn_output, pred_label\n",
    "\n",
    "filename, nn_output, pred_label = single_file_processing_graph()"
   ]
  },
  {
   "cell_type": "code",
   "execution_count": 76,
   "metadata": {},
   "outputs": [
    {
     "name": "stdout",
     "output_type": "stream",
     "text": [
      "Predicted: nine, true nine\n",
      "Predicted: seven, true seven\n",
      "Predicted: seven, true seven\n",
      "Predicted: nine, true nine\n",
      "Predicted: _unknown_, true _unknown_\n",
      "Predicted: seven, true seven\n",
      "Predicted: seven, true seven\n",
      "Predicted: nine, true nine\n",
      "Predicted: seven, true seven\n",
      "Predicted: nine, true nine\n",
      "Predicted: nine, true nine\n",
      "Predicted: seven, true seven\n",
      "Predicted: nine, true nine\n",
      "Predicted: seven, true seven\n",
      "Predicted: nine, true nine\n",
      "Predicted: seven, true seven\n",
      "Predicted: seven, true seven\n",
      "Predicted: nine, true nine\n",
      "Predicted: _unknown_, true _unknown_\n",
      "Predicted: nine, true nine\n",
      "Predicted: seven, true seven\n",
      "Predicted: seven, true seven\n",
      "Predicted: nine, true nine\n",
      "Predicted: nine, true nine\n",
      "Predicted: _unknown_, true _unknown_\n",
      "Predicted: nine, true nine\n",
      "Predicted: seven, true seven\n",
      "Predicted: seven, true seven\n",
      "Predicted: nine, true nine\n",
      "Predicted: nine, true nine\n",
      "Predicted: seven, true seven\n",
      "Predicted: seven, true seven\n",
      "Predicted: nine, true nine\n",
      "Predicted: nine, true nine\n"
     ]
    }
   ],
   "source": [
    "for i in range(36):\n",
    "    path, true_label = ap.train_set[0][i], ap.train_set[1][i]\n",
    "    if true_label == ap.label_to_id[ap.silence_label]:\n",
    "        continue #here no tracks are mixed/no volume adjustment, so silence doesn't make sense\n",
    "    predicted_label = pred_label.eval(feed_dict={filename: path})[0]\n",
    "    mark = \"\" if true_label == predicted_label else \"!\"\n",
    "    \n",
    "    print(\"{}Predicted: {}, true {}\".format(mark, ap.id_to_label[predicted_label], ap.id_to_label[true_label]))"
   ]
  },
  {
   "cell_type": "code",
   "execution_count": 72,
   "metadata": {},
   "outputs": [
    {
     "ename": "SyntaxError",
     "evalue": "invalid syntax (<ipython-input-72-ab7c34539cae>, line 1)",
     "output_type": "error",
     "traceback": [
      "\u001b[0;36m  File \u001b[0;32m\"<ipython-input-72-ab7c34539cae>\"\u001b[0;36m, line \u001b[0;32m1\u001b[0m\n\u001b[0;31m    a = 1>2?1:2\u001b[0m\n\u001b[0m           ^\u001b[0m\n\u001b[0;31mSyntaxError\u001b[0m\u001b[0;31m:\u001b[0m invalid syntax\n"
     ]
    }
   ],
   "source": [
    "a = 1>2?1:2"
   ]
  },
  {
   "cell_type": "markdown",
   "metadata": {},
   "source": [
    "### Random tests"
   ]
  },
  {
   "cell_type": "code",
   "execution_count": null,
   "metadata": {},
   "outputs": [],
   "source": [
    "data = [ ['ą','as'], ['b', 'bas'] ]\n",
    "p = tf.placeholder(tf.string, [None, 2])\n",
    "pa = p+'a'\n",
    "pa = sess.run(pa, feed_dict={p:data})\n",
    "str(pa[0][0].decode(\"utf-8\"))"
   ]
  },
  {
   "cell_type": "code",
   "execution_count": null,
   "metadata": {
    "scrolled": true
   },
   "outputs": [],
   "source": [
    "a = np.ones((5,10))\n",
    "b = np.ones((5,))\n",
    "a+b"
   ]
  },
  {
   "cell_type": "code",
   "execution_count": null,
   "metadata": {},
   "outputs": [],
   "source": [
    "import gc"
   ]
  },
  {
   "cell_type": "code",
   "execution_count": null,
   "metadata": {},
   "outputs": [],
   "source": [
    "mb100 = np.ones((1024, 1024, 100//4), dtype=np.float32)"
   ]
  },
  {
   "cell_type": "code",
   "execution_count": null,
   "metadata": {},
   "outputs": [],
   "source": [
    "c = tf.constant(mb100)"
   ]
  },
  {
   "cell_type": "code",
   "execution_count": null,
   "metadata": {},
   "outputs": [],
   "source": [
    "len(gc.get_referrers(c.graph))"
   ]
  },
  {
   "cell_type": "code",
   "execution_count": null,
   "metadata": {},
   "outputs": [],
   "source": [
    "isess.close()\n",
    "del isess"
   ]
  },
  {
   "cell_type": "code",
   "execution_count": null,
   "metadata": {},
   "outputs": [],
   "source": [
    "del c"
   ]
  },
  {
   "cell_type": "code",
   "execution_count": null,
   "metadata": {},
   "outputs": [],
   "source": [
    "d = tf.constant(mb100*2)"
   ]
  },
  {
   "cell_type": "code",
   "execution_count": null,
   "metadata": {},
   "outputs": [],
   "source": [
    "isess.graph"
   ]
  },
  {
   "cell_type": "code",
   "execution_count": null,
   "metadata": {},
   "outputs": [],
   "source": [
    "del c"
   ]
  },
  {
   "cell_type": "code",
   "execution_count": null,
   "metadata": {},
   "outputs": [],
   "source": [
    "tf.reset_default_graph()"
   ]
  },
  {
   "cell_type": "code",
   "execution_count": null,
   "metadata": {
    "scrolled": true
   },
   "outputs": [],
   "source": [
    "for g in gc.get_referrers(c.graph):\n",
    "    print(type(g))"
   ]
  },
  {
   "cell_type": "code",
   "execution_count": null,
   "metadata": {},
   "outputs": [],
   "source": [
    "with tf.Session() as sess:\n",
    "    c = tf.constant(mb100)"
   ]
  },
  {
   "cell_type": "code",
   "execution_count": null,
   "metadata": {},
   "outputs": [],
   "source": [
    "sess"
   ]
  },
  {
   "cell_type": "code",
   "execution_count": null,
   "metadata": {},
   "outputs": [],
   "source": [
    "g = tf.Graph()\n",
    "with g.as_default():\n",
    "    c = tf.constant(mb100)"
   ]
  },
  {
   "cell_type": "code",
   "execution_count": null,
   "metadata": {},
   "outputs": [],
   "source": [
    "del g"
   ]
  },
  {
   "cell_type": "code",
   "execution_count": null,
   "metadata": {},
   "outputs": [],
   "source": [
    "del c"
   ]
  },
  {
   "cell_type": "code",
   "execution_count": null,
   "metadata": {},
   "outputs": [],
   "source": []
  },
  {
   "cell_type": "code",
   "execution_count": null,
   "metadata": {},
   "outputs": [],
   "source": [
    "gc.collect()"
   ]
  },
  {
   "cell_type": "code",
   "execution_count": null,
   "metadata": {},
   "outputs": [],
   "source": [
    "a = gc.get_referrers(c.graph)"
   ]
  },
  {
   "cell_type": "code",
   "execution_count": null,
   "metadata": {},
   "outputs": [],
   "source": [
    "len(a)"
   ]
  },
  {
   "cell_type": "code",
   "execution_count": null,
   "metadata": {},
   "outputs": [],
   "source": [
    "tf.InteractiveSession()"
   ]
  },
  {
   "cell_type": "code",
   "execution_count": null,
   "metadata": {},
   "outputs": [],
   "source": [
    "tf.get_default_session()"
   ]
  },
  {
   "cell_type": "code",
   "execution_count": null,
   "metadata": {},
   "outputs": [],
   "source": [
    "isess3 = tf.InteractiveSession()"
   ]
  },
  {
   "cell_type": "code",
   "execution_count": null,
   "metadata": {},
   "outputs": [],
   "source": [
    "a = {1:True, 2:False}\n",
    "all(a.values())"
   ]
  }
 ],
 "metadata": {
  "kernelspec": {
   "display_name": "Python 3",
   "language": "python",
   "name": "python3"
  },
  "language_info": {
   "codemirror_mode": {
    "name": "ipython",
    "version": 3
   },
   "file_extension": ".py",
   "mimetype": "text/x-python",
   "name": "python",
   "nbconvert_exporter": "python",
   "pygments_lexer": "ipython3",
   "version": "3.6.3"
  }
 },
 "nbformat": 4,
 "nbformat_minor": 2
}
